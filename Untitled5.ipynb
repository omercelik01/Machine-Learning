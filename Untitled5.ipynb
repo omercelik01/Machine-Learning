{
  "nbformat": 4,
  "nbformat_minor": 0,
  "metadata": {
    "colab": {
      "provenance": [],
      "authorship_tag": "ABX9TyNZ/S/atyllUTVP/8YxA+oG",
      "include_colab_link": true
    },
    "kernelspec": {
      "name": "python3",
      "display_name": "Python 3"
    },
    "language_info": {
      "name": "python"
    }
  },
  "cells": [
    {
      "cell_type": "markdown",
      "metadata": {
        "id": "view-in-github",
        "colab_type": "text"
      },
      "source": [
        "<a href=\"https://colab.research.google.com/github/omercelik01/Machine-Learning/blob/main/Untitled5.ipynb\" target=\"_parent\"><img src=\"https://colab.research.google.com/assets/colab-badge.svg\" alt=\"Open In Colab\"/></a>"
      ]
    },
    {
      "cell_type": "code",
      "execution_count": 2,
      "metadata": {
        "colab": {
          "base_uri": "https://localhost:8080/"
        },
        "id": "noqRkMoaDl7Z",
        "outputId": "ac3f7041-0cae-4241-890c-c125b02d68ba"
      },
      "outputs": [
        {
          "output_type": "stream",
          "name": "stdout",
          "text": [
            "[[ 1. -1.  2.]\n",
            " [ 2.  0.  0.]\n",
            " [ 0.  1. -1.]]\n",
            "--------------------\n"
          ]
        },
        {
          "output_type": "execute_result",
          "data": {
            "text/plain": [
              "array([[ 0.        , -1.22474487,  1.33630621],\n",
              "       [ 1.22474487,  0.        , -0.26726124],\n",
              "       [-1.22474487,  1.22474487, -1.06904497]])"
            ]
          },
          "metadata": {},
          "execution_count": 2
        }
      ],
      "source": [
        "from sklearn import preprocessing\n",
        "import numpy as np\n",
        "X = np.array([ [ 1.,-1., 2.]\n",
        ",[ 2., 0., 0.]\n",
        ",[ 0., 1.,-1.] ])\n",
        "\n",
        "X_scaled = preprocessing.scale(X)\n",
        "print(X)\n",
        "print(\"--------------------\")\n",
        "print(X_scaled)\n"
      ]
    },
    {
      "cell_type": "code",
      "source": [
        "from sklearn import preprocessing\n",
        "import numpy as np\n",
        "X = np.array([[ 1., -1., 2.],\n",
        "[ 2., 0., 0.],\n",
        "[ 0., 1., -1.]])\n",
        "X_scaled = preprocessing.scale(X)\n",
        "print(X)\n",
        "print(\"--------------------\")\n",
        "print(X_scaled)\n",
        "print(\"--------------------\")\n",
        "print(X_scaled.mean(axis=0))\n",
        "print(\"--------------------\")\n",
        "print(X_scaled.std(axis=0))"
      ],
      "metadata": {
        "colab": {
          "base_uri": "https://localhost:8080/"
        },
        "id": "7kpuTmoeDrxI",
        "outputId": "74cd6417-0924-42e5-fe68-7ac7a80d26ea"
      },
      "execution_count": 3,
      "outputs": [
        {
          "output_type": "stream",
          "name": "stdout",
          "text": [
            "[[ 1. -1.  2.]\n",
            " [ 2.  0.  0.]\n",
            " [ 0.  1. -1.]]\n",
            "--------------------\n",
            "[[ 0.         -1.22474487  1.33630621]\n",
            " [ 1.22474487  0.         -0.26726124]\n",
            " [-1.22474487  1.22474487 -1.06904497]]\n",
            "--------------------\n",
            "[0. 0. 0.]\n",
            "--------------------\n",
            "[1. 1. 1.]\n"
          ]
        }
      ]
    },
    {
      "cell_type": "code",
      "source": [],
      "metadata": {
        "id": "0GX38_6rFhTg"
      },
      "execution_count": null,
      "outputs": []
    },
    {
      "cell_type": "markdown",
      "source": [
        "Min-Max Scaler"
      ],
      "metadata": {
        "id": "nV3y9jZOGDPP"
      }
    },
    {
      "cell_type": "code",
      "source": [
        "from sklearn import preprocessing\n",
        "import numpy as np\n",
        "X_train = np.array([[ 1., -1., 2.],\n",
        "[ 2., 0., 0.],\n",
        "[ 0., 1., -1.]])\n",
        "min_max_scaler = preprocessing.MinMaxScaler()\n",
        "X_train_minmax = min_max_scaler.fit_transform(X_train)\n",
        "print(X_train)\n",
        "print(\"---------------------\")\n",
        "print(X_train_minmax)\n",
        "\n",
        "\n"
      ],
      "metadata": {
        "colab": {
          "base_uri": "https://localhost:8080/"
        },
        "id": "RFiTAIOFGFd-",
        "outputId": "427c433d-9e8e-42e2-f2e6-50e5b66e881a"
      },
      "execution_count": 10,
      "outputs": [
        {
          "output_type": "stream",
          "name": "stdout",
          "text": [
            "[[ 1. -1.  2.]\n",
            " [ 2.  0.  0.]\n",
            " [ 0.  1. -1.]]\n",
            "---------------------\n",
            "[[0.5        0.         1.        ]\n",
            " [1.         0.5        0.33333333]\n",
            " [0.         1.         0.        ]]\n"
          ]
        }
      ]
    },
    {
      "cell_type": "code",
      "source": [
        "from sklearn import preprocessing\n",
        "import numpy as np\n",
        "X_train = np.array([[ 1.,\n",
        "-1., 2.]\n",
        ",\n",
        "[ 2., 0., 0.]\n",
        ",\n",
        "[ 0., 1.,-1.]])\n",
        "min_max_scaler = preprocessing.MinMaxScaler()\n",
        "X_train_minmax = min_max_scaler.fit_transform\n",
        "(X_train\n",
        ")\n",
        "print\n",
        "(X_train\n",
        ")\n",
        "print\n",
        "(\"---------------------\")\n",
        "print\n",
        "(X_train_minmax\n",
        ")\n",
        "X_test = np.array([[-3.,\n",
        "-1., 4.]])\n",
        "X_test_minmax = min_max_scaler.transform\n",
        "(X_test\n",
        ")\n",
        "print\n",
        "(\"---------------------\")\n",
        "print\n",
        "(X_test_minmax)"
      ],
      "metadata": {
        "colab": {
          "base_uri": "https://localhost:8080/",
          "height": 187
        },
        "id": "bh7fe5CLGKyv",
        "outputId": "4947120c-0586-4b91-cb28-1e5e38389b7b"
      },
      "execution_count": 13,
      "outputs": [
        {
          "output_type": "execute_result",
          "data": {
            "text/plain": [
              "<bound method MinMaxScaler.transform of MinMaxScaler()>"
            ],
            "text/html": [
              "<div style=\"max-width:800px; border: 1px solid var(--colab-border-color);\"><style>\n",
              "      pre.function-repr-contents {\n",
              "        overflow-x: auto;\n",
              "        padding: 8px 12px;\n",
              "        max-height: 500px;\n",
              "      }\n",
              "\n",
              "      pre.function-repr-contents.function-repr-contents-collapsed {\n",
              "        cursor: pointer;\n",
              "        max-height: 100px;\n",
              "      }\n",
              "    </style>\n",
              "    <pre style=\"white-space: initial; background:\n",
              "         var(--colab-secondary-surface-color); padding: 8px 12px;\n",
              "         border-bottom: 1px solid var(--colab-border-color);\"><b>sklearn.preprocessing._data.MinMaxScaler.transform</b><br/>def transform(X)</pre><pre class=\"function-repr-contents function-repr-contents-collapsed\" style=\"\"><a class=\"filepath\" style=\"display:none\" href=\"#\">/usr/local/lib/python3.10/dist-packages/sklearn/preprocessing/_data.py</a>Scale features of X according to feature_range.\n",
              "\n",
              "Parameters\n",
              "----------\n",
              "X : array-like of shape (n_samples, n_features)\n",
              "    Input data that will be transformed.\n",
              "\n",
              "Returns\n",
              "-------\n",
              "Xt : ndarray of shape (n_samples, n_features)\n",
              "    Transformed data.</pre>\n",
              "      <script>\n",
              "      if (google.colab.kernel.accessAllowed && google.colab.files && google.colab.files.view) {\n",
              "        for (const element of document.querySelectorAll('.filepath')) {\n",
              "          element.style.display = 'block'\n",
              "          element.onclick = (event) => {\n",
              "            event.preventDefault();\n",
              "            event.stopPropagation();\n",
              "            google.colab.files.view(element.textContent, 493);\n",
              "          };\n",
              "        }\n",
              "      }\n",
              "      for (const element of document.querySelectorAll('.function-repr-contents')) {\n",
              "        element.onclick = (event) => {\n",
              "          event.preventDefault();\n",
              "          event.stopPropagation();\n",
              "          element.classList.toggle('function-repr-contents-collapsed');\n",
              "        };\n",
              "      }\n",
              "      </script>\n",
              "      </div>"
            ]
          },
          "metadata": {},
          "execution_count": 13
        }
      ]
    },
    {
      "cell_type": "code",
      "source": [],
      "metadata": {
        "id": "HkvlQcp0Jxbf"
      },
      "execution_count": null,
      "outputs": []
    },
    {
      "cell_type": "markdown",
      "source": [
        "Normalization"
      ],
      "metadata": {
        "id": "n8aldlCzKQNw"
      }
    },
    {
      "cell_type": "code",
      "source": [
        "from sklearn import preprocessing\n",
        "import numpy as np\n",
        "X = [[ 1.,\n",
        "-1., 2.\n",
        "]\n",
        ",\n",
        "[ 2., 0., 0.\n",
        "]\n",
        ",\n",
        "[ 0., 1.,\n",
        "-1.]]\n",
        "X_normalized = preprocessing.normalize(X, norm\n",
        "='l2'\n",
        ")\n",
        "print(X)\n",
        "print\n",
        "(\"---------------------\")\n",
        "print(X_normalized)\n",
        "X_test = np.array([[\n",
        "-3.,\n",
        "-1., 4.]])\n",
        "X_test_normalize = preprocessing.normalize\n",
        "(X_test\n",
        ")\n",
        "print\n",
        "(\"---------------------\")\n",
        "print\n",
        "(X_test_normalize\n",
        ")"
      ],
      "metadata": {
        "colab": {
          "base_uri": "https://localhost:8080/",
          "height": 256
        },
        "id": "ToKuCf9HKSe-",
        "outputId": "f9b98e49-feea-4f29-c3ba-0242aff5466f"
      },
      "execution_count": 14,
      "outputs": [
        {
          "output_type": "stream",
          "name": "stdout",
          "text": [
            "[[1.0, -1.0, 2.0], [2.0, 0.0, 0.0], [0.0, 1.0, -1.0]]\n",
            "[[ 0.40824829 -0.40824829  0.81649658]\n",
            " [ 1.          0.          0.        ]\n",
            " [ 0.          0.70710678 -0.70710678]]\n"
          ]
        },
        {
          "output_type": "execute_result",
          "data": {
            "text/plain": [
              "<function sklearn.preprocessing._data.normalize(X, norm='l2', *, axis=1, copy=True, return_norm=False)>"
            ],
            "text/html": [
              "<div style=\"max-width:800px; border: 1px solid var(--colab-border-color);\"><style>\n",
              "      pre.function-repr-contents {\n",
              "        overflow-x: auto;\n",
              "        padding: 8px 12px;\n",
              "        max-height: 500px;\n",
              "      }\n",
              "\n",
              "      pre.function-repr-contents.function-repr-contents-collapsed {\n",
              "        cursor: pointer;\n",
              "        max-height: 100px;\n",
              "      }\n",
              "    </style>\n",
              "    <pre style=\"white-space: initial; background:\n",
              "         var(--colab-secondary-surface-color); padding: 8px 12px;\n",
              "         border-bottom: 1px solid var(--colab-border-color);\"><b>sklearn.preprocessing._data.normalize</b><br/>def normalize(X, norm=&#x27;l2&#x27;, *, axis=1, copy=True, return_norm=False)</pre><pre class=\"function-repr-contents function-repr-contents-collapsed\" style=\"\"><a class=\"filepath\" style=\"display:none\" href=\"#\">/usr/local/lib/python3.10/dist-packages/sklearn/preprocessing/_data.py</a>Scale input vectors individually to unit norm (vector length).\n",
              "\n",
              "Read more in the :ref:`User Guide &lt;preprocessing_normalization&gt;`.\n",
              "\n",
              "Parameters\n",
              "----------\n",
              "X : {array-like, sparse matrix} of shape (n_samples, n_features)\n",
              "    The data to normalize, element by element.\n",
              "    scipy.sparse matrices should be in CSR format to avoid an\n",
              "    un-necessary copy.\n",
              "\n",
              "norm : {&#x27;l1&#x27;, &#x27;l2&#x27;, &#x27;max&#x27;}, default=&#x27;l2&#x27;\n",
              "    The norm to use to normalize each non zero sample (or each non-zero\n",
              "    feature if axis is 0).\n",
              "\n",
              "axis : {0, 1}, default=1\n",
              "    Define axis used to normalize the data along. If 1, independently\n",
              "    normalize each sample, otherwise (if 0) normalize each feature.\n",
              "\n",
              "copy : bool, default=True\n",
              "    Set to False to perform inplace row normalization and avoid a\n",
              "    copy (if the input is already a numpy array or a scipy.sparse\n",
              "    CSR matrix and if axis is 1).\n",
              "\n",
              "return_norm : bool, default=False\n",
              "    Whether to return the computed norms.\n",
              "\n",
              "Returns\n",
              "-------\n",
              "X : {ndarray, sparse matrix} of shape (n_samples, n_features)\n",
              "    Normalized input X.\n",
              "\n",
              "norms : ndarray of shape (n_samples, ) if axis=1 else (n_features, )\n",
              "    An array of norms along given axis for X.\n",
              "    When X is sparse, a NotImplementedError will be raised\n",
              "    for norm &#x27;l1&#x27; or &#x27;l2&#x27;.\n",
              "\n",
              "See Also\n",
              "--------\n",
              "Normalizer : Performs normalization using the Transformer API\n",
              "    (e.g. as part of a preprocessing :class:`~sklearn.pipeline.Pipeline`).\n",
              "\n",
              "Notes\n",
              "-----\n",
              "For a comparison of the different scalers, transformers, and normalizers,\n",
              "see :ref:`examples/preprocessing/plot_all_scaling.py\n",
              "&lt;sphx_glr_auto_examples_preprocessing_plot_all_scaling.py&gt;`.</pre>\n",
              "      <script>\n",
              "      if (google.colab.kernel.accessAllowed && google.colab.files && google.colab.files.view) {\n",
              "        for (const element of document.querySelectorAll('.filepath')) {\n",
              "          element.style.display = 'block'\n",
              "          element.onclick = (event) => {\n",
              "            event.preventDefault();\n",
              "            event.stopPropagation();\n",
              "            google.colab.files.view(element.textContent, 1758);\n",
              "          };\n",
              "        }\n",
              "      }\n",
              "      for (const element of document.querySelectorAll('.function-repr-contents')) {\n",
              "        element.onclick = (event) => {\n",
              "          event.preventDefault();\n",
              "          event.stopPropagation();\n",
              "          element.classList.toggle('function-repr-contents-collapsed');\n",
              "        };\n",
              "      }\n",
              "      </script>\n",
              "      </div>"
            ]
          },
          "metadata": {},
          "execution_count": 14
        }
      ]
    },
    {
      "cell_type": "markdown",
      "source": [
        "Encoding"
      ],
      "metadata": {
        "id": "kYW14cCoK5BE"
      }
    },
    {
      "cell_type": "code",
      "source": [
        "from sklearn import preprocessing\n",
        "import numpy as np\n",
        "enc = preprocessing.OrdinalEncoder()\n",
        "X = [['male', 'from US', 'uses Safari'], ['female', 'from Europe', 'uses Firefox']]\n",
        "enc.fit(X)\n",
        "print(enc.transform([['female', 'from US', 'uses Safari']]))"
      ],
      "metadata": {
        "colab": {
          "base_uri": "https://localhost:8080/"
        },
        "id": "KBh1GIZaK8XN",
        "outputId": "46854a15-cc01-4aca-aff8-6ddd26de534b"
      },
      "execution_count": 15,
      "outputs": [
        {
          "output_type": "stream",
          "name": "stdout",
          "text": [
            "[[0. 1. 1.]]\n"
          ]
        }
      ]
    },
    {
      "cell_type": "markdown",
      "source": [],
      "metadata": {
        "id": "FP0psNjfM6dp"
      }
    },
    {
      "cell_type": "markdown",
      "source": [
        "One Hot Encoder"
      ],
      "metadata": {
        "id": "OroULVhsM9C3"
      }
    },
    {
      "cell_type": "code",
      "source": [
        "from sklearn import preprocessing\n",
        "import numpy as np\n",
        "enc = preprocessing.OneHotEncoder()\n",
        "X = [['male', 'from US', 'uses Safari'], ['female', 'from Europe', 'uses Firefox']]\n",
        "enc.fit(X)\n",
        "print(enc.transform([['female', 'from US', 'uses Safari'],\n",
        "['male', 'from Europe', 'uses Safari']]).toarray())"
      ],
      "metadata": {
        "colab": {
          "base_uri": "https://localhost:8080/"
        },
        "id": "SoVOzJaGM-4H",
        "outputId": "b6fc9105-dcc3-48e5-bdf8-9b1a00e5c12b"
      },
      "execution_count": 16,
      "outputs": [
        {
          "output_type": "stream",
          "name": "stdout",
          "text": [
            "[[1. 0. 0. 1. 0. 1.]\n",
            " [0. 1. 1. 0. 0. 1.]]\n"
          ]
        }
      ]
    },
    {
      "cell_type": "code",
      "source": [],
      "metadata": {
        "id": "yo7hR84fNFU-"
      },
      "execution_count": null,
      "outputs": []
    }
  ]
}