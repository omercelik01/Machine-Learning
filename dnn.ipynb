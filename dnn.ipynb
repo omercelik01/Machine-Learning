{
  "nbformat": 4,
  "nbformat_minor": 0,
  "metadata": {
    "colab": {
      "provenance": [],
      "authorship_tag": "ABX9TyPc0sgUW27US+IhTXRpaRSw",
      "include_colab_link": true
    },
    "kernelspec": {
      "name": "python3",
      "display_name": "Python 3"
    },
    "language_info": {
      "name": "python"
    }
  },
  "cells": [
    {
      "cell_type": "markdown",
      "metadata": {
        "id": "view-in-github",
        "colab_type": "text"
      },
      "source": [
        "<a href=\"https://colab.research.google.com/github/omercelik01/Machine-Learning/blob/main/dnn.ipynb\" target=\"_parent\"><img src=\"https://colab.research.google.com/assets/colab-badge.svg\" alt=\"Open In Colab\"/></a>"
      ]
    },
    {
      "cell_type": "code",
      "execution_count": 2,
      "metadata": {
        "id": "-Pu_R_pEOyJo"
      },
      "outputs": [],
      "source": [
        "\n",
        "import tensorflow as tf\n",
        "from tensorflow import keras\n",
        "from tensorflow.keras import layers"
      ]
    },
    {
      "cell_type": "code",
      "source": [
        "model = keras.Sequential()\n",
        "model.add(layers.LSTM(64, input_shape=(None, 28)))\n",
        "model.add(layers.BatchNormalization())\n",
        "model.add(layers.Dense(10))\n",
        "print(model.summary())"
      ],
      "metadata": {
        "colab": {
          "base_uri": "https://localhost:8080/"
        },
        "id": "1TYpQ54mPW3T",
        "outputId": "3a242ed7-66cb-46f8-a877-eb6b70054504"
      },
      "execution_count": 3,
      "outputs": [
        {
          "output_type": "stream",
          "name": "stdout",
          "text": [
            "Model: \"sequential\"\n",
            "_________________________________________________________________\n",
            " Layer (type)                Output Shape              Param #   \n",
            "=================================================================\n",
            " lstm (LSTM)                 (None, 64)                23808     \n",
            "                                                                 \n",
            " batch_normalization (Batch  (None, 64)                256       \n",
            " Normalization)                                                  \n",
            "                                                                 \n",
            " dense (Dense)               (None, 10)                650       \n",
            "                                                                 \n",
            "=================================================================\n",
            "Total params: 24714 (96.54 KB)\n",
            "Trainable params: 24586 (96.04 KB)\n",
            "Non-trainable params: 128 (512.00 Byte)\n",
            "_________________________________________________________________\n",
            "None\n"
          ]
        }
      ]
    },
    {
      "cell_type": "code",
      "source": [
        "mnist = keras.datasets.mnist\n",
        "(x_train, y_train), (x_test, y_test) = mnist.load_data()\n",
        "x_train, x_test = x_train/255.0, x_test/255.0\n",
        "x_validate, y_validate = x_test[:-10], y_test[:-10]\n",
        "x_test, y_test = x_test[-10:], y_test[-10:]"
      ],
      "metadata": {
        "colab": {
          "base_uri": "https://localhost:8080/"
        },
        "id": "n7oc7eOBPofB",
        "outputId": "6f85a52e-4822-4f72-ffda-e69692cc74ef"
      },
      "execution_count": 4,
      "outputs": [
        {
          "output_type": "stream",
          "name": "stdout",
          "text": [
            "Downloading data from https://storage.googleapis.com/tensorflow/tf-keras-datasets/mnist.npz\n",
            "11490434/11490434 [==============================] - 0s 0us/step\n"
          ]
        }
      ]
    },
    {
      "cell_type": "code",
      "source": [
        "model.compile(\n",
        "loss=keras.losses.SparseCategoricalCrossentropy(from_logits=True),\n",
        "optimizer=\"sgd\"\n",
        ",\n",
        "metrics=[\"accuracy\"],\n",
        ")"
      ],
      "metadata": {
        "id": "nZIxXI3VPsGg"
      },
      "execution_count": 5,
      "outputs": []
    },
    {
      "cell_type": "code",
      "source": [
        "model.fit(\n",
        "x_train, y_train, validation_data=(x_validate, y_validate), batch_size=64, epochs=10 )"
      ],
      "metadata": {
        "colab": {
          "base_uri": "https://localhost:8080/"
        },
        "id": "F2hwgDu6Pxuo",
        "outputId": "95a2f9aa-d9e0-4d40-f345-36747cd88795"
      },
      "execution_count": 6,
      "outputs": [
        {
          "output_type": "stream",
          "name": "stdout",
          "text": [
            "Epoch 1/10\n",
            "938/938 [==============================] - 23s 23ms/step - loss: 0.9680 - accuracy: 0.6867 - val_loss: 0.7550 - val_accuracy: 0.7484\n",
            "Epoch 2/10\n",
            "938/938 [==============================] - 23s 24ms/step - loss: 0.4036 - accuracy: 0.8771 - val_loss: 0.2956 - val_accuracy: 0.9078\n",
            "Epoch 3/10\n",
            "938/938 [==============================] - 20s 21ms/step - loss: 0.2501 - accuracy: 0.9251 - val_loss: 0.2157 - val_accuracy: 0.9352\n",
            "Epoch 4/10\n",
            "938/938 [==============================] - 21s 23ms/step - loss: 0.1930 - accuracy: 0.9414 - val_loss: 0.6752 - val_accuracy: 0.7949\n",
            "Epoch 5/10\n",
            "938/938 [==============================] - 21s 22ms/step - loss: 0.1618 - accuracy: 0.9506 - val_loss: 0.1700 - val_accuracy: 0.9437\n",
            "Epoch 6/10\n",
            "938/938 [==============================] - 18s 20ms/step - loss: 0.1425 - accuracy: 0.9564 - val_loss: 0.1328 - val_accuracy: 0.9576\n",
            "Epoch 7/10\n",
            "938/938 [==============================] - 21s 22ms/step - loss: 0.1265 - accuracy: 0.9620 - val_loss: 0.1371 - val_accuracy: 0.9573\n",
            "Epoch 8/10\n",
            "938/938 [==============================] - 20s 21ms/step - loss: 0.1165 - accuracy: 0.9647 - val_loss: 0.1271 - val_accuracy: 0.9600\n",
            "Epoch 9/10\n",
            "938/938 [==============================] - 20s 21ms/step - loss: 0.1072 - accuracy: 0.9676 - val_loss: 0.1183 - val_accuracy: 0.9606\n",
            "Epoch 10/10\n",
            "938/938 [==============================] - 20s 21ms/step - loss: 0.1019 - accuracy: 0.9687 - val_loss: 0.2020 - val_accuracy: 0.9319\n"
          ]
        },
        {
          "output_type": "execute_result",
          "data": {
            "text/plain": [
              "<keras.src.callbacks.History at 0x7aa864b18bb0>"
            ]
          },
          "metadata": {},
          "execution_count": 6
        }
      ]
    },
    {
      "cell_type": "code",
      "source": [
        "for i in range(10):\n",
        "  result = tf.argmax(model.predict(tf.expand_dims(x_test[i], 0)), axis=1)\n",
        "  print(result.numpy(), y_test[i])"
      ],
      "metadata": {
        "colab": {
          "base_uri": "https://localhost:8080/"
        },
        "id": "dy47TsGRP2RA",
        "outputId": "246be0d1-6e29-4cd5-cd0d-8611da755d83"
      },
      "execution_count": 8,
      "outputs": [
        {
          "output_type": "stream",
          "name": "stdout",
          "text": [
            "1/1 [==============================] - 0s 463ms/step\n",
            "[7] 7\n",
            "1/1 [==============================] - 0s 21ms/step\n",
            "[8] 8\n",
            "1/1 [==============================] - 0s 21ms/step\n",
            "[9] 9\n",
            "1/1 [==============================] - 0s 22ms/step\n",
            "[0] 0\n",
            "1/1 [==============================] - 0s 21ms/step\n",
            "[1] 1\n",
            "1/1 [==============================] - 0s 22ms/step\n",
            "[2] 2\n",
            "1/1 [==============================] - 0s 22ms/step\n",
            "[3] 3\n",
            "1/1 [==============================] - 0s 22ms/step\n",
            "[4] 4\n",
            "1/1 [==============================] - 0s 20ms/step\n",
            "[5] 5\n",
            "1/1 [==============================] - 0s 21ms/step\n",
            "[6] 6\n"
          ]
        }
      ]
    },
    {
      "cell_type": "code",
      "source": [],
      "metadata": {
        "id": "VG4354IQQ7Nc"
      },
      "execution_count": null,
      "outputs": []
    }
  ]
}